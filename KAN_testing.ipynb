{
 "cells": [
  {
   "cell_type": "code",
   "execution_count": 1,
   "metadata": {},
   "outputs": [],
   "source": [
    "import matplotlib.pyplot as plt\n",
    "import numpy as np\n",
    "import torch\n",
    "from torchsummary import summary\n",
    "from models.KANFormer import KANFormer\n",
    "from utils import get_model_size"
   ]
  },
  {
   "cell_type": "code",
   "execution_count": 2,
   "metadata": {},
   "outputs": [
    {
     "name": "stderr",
     "output_type": "stream",
     "text": [
      "/tmp/ipykernel_21504/3008780425.py:7: FutureWarning: You are using `torch.load` with `weights_only=False` (the current default value), which uses the default pickle module implicitly. It is possible to construct malicious pickle data which will execute arbitrary code during unpickling (See https://github.com/pytorch/pytorch/blob/main/SECURITY.md#untrusted-models for more details). In a future release, the default value for `weights_only` will be flipped to `True`. This limits the functions that could be executed during unpickling. Arbitrary objects will no longer be allowed to be loaded via this mode unless they are explicitly allowlisted by the user via `torch.serialization.add_safe_globals`. We recommend you start setting `weights_only=True` for any use case where you don't have full control of the loaded file. Please open an issue on GitHub for any issues related to this experimental feature.\n",
      "  checkpoint = torch.load(model_dir)\n"
     ]
    },
    {
     "data": {
      "text/plain": [
       "KANFormer(\n",
       "  (fusion): Fusion(\n",
       "    (hsi_kan): KANLinear(\n",
       "      (base_activation): SiLU()\n",
       "    )\n",
       "    (msi_kan): KANLinear(\n",
       "      (base_activation): SiLU()\n",
       "    )\n",
       "    (align_kan): KANLinear(\n",
       "      (base_activation): SiLU()\n",
       "    )\n",
       "  )\n",
       "  (layers): ModuleList(\n",
       "    (0-3): 4 x KANBlock(\n",
       "      (kan_layer_01): KANLinear(\n",
       "        (base_activation): SiLU()\n",
       "      )\n",
       "      (kan_layer_02): KANLinear(\n",
       "        (base_activation): SiLU()\n",
       "      )\n",
       "    )\n",
       "  )\n",
       "  (refine): Sequential(\n",
       "    (0): Conv2d(256, 256, kernel_size=(3, 3), stride=(1, 1), padding=(1, 1))\n",
       "    (1): ReLU(inplace=True)\n",
       "    (2): Conv2d(256, 31, kernel_size=(3, 3), stride=(1, 1), padding=(1, 1))\n",
       "  )\n",
       ")"
      ]
     },
     "execution_count": 2,
     "metadata": {},
     "output_type": "execute_result"
    }
   ],
   "source": [
    "device = torch.device('cuda' if torch.cuda.is_available() else 'cpu')\n",
    "# (self,HSI_bands=31,MSI_bands=3,hidden_dim=256,scale=4,depth=4,image_size=64)\n",
    "myKAN = KANFormer(HSI_bands=31,MSI_bands=3,hidden_dim=256,scale=4,depth=4,image_size=64)\n",
    "myKAN = myKAN.to(device)\n",
    "model_dir = './trained_models/CAVEx2_epoch:999,PSNR:54.62.pth'\n",
    "#model_dir = './trained_models/CAVEx4_epoch:999,PSNR:49.17.pth'\n",
    "checkpoint = torch.load(model_dir)\n",
    "myKAN.load_state_dict(checkpoint['net'], strict=False)\n",
    "# Set for forward use\n",
    "myKAN.eval()"
   ]
  },
  {
   "cell_type": "code",
   "execution_count": 3,
   "metadata": {},
   "outputs": [
    {
     "name": "stdout",
     "output_type": "stream",
     "text": [
      "torch.Size([2, 31, 16, 16])\n",
      "torch.Size([2, 31, 64, 64])\n",
      "torch.Size([2, 4096, 31]) torch.Size([2, 4096, 3])\n",
      "lrhsi to first KAN\n",
      "X.size 31\n",
      "31\n",
      "X.shape torch.Size([8192, 31])\n",
      "Base weight torch.float32\n",
      "hrmsi to second KAN\n",
      "X.size 3\n",
      "3\n",
      "X.shape torch.Size([8192, 3])\n",
      "Base weight torch.float32\n",
      "torch.Size([2, 4096, 256]) torch.Size([2, 4096, 256])\n",
      "concatenated LR/HR to 3rd KAN\n",
      "X.size 512\n",
      "512\n",
      "X.shape torch.Size([8192, 512])\n",
      "Base weight torch.float32\n",
      "X.size 256\n",
      "256\n",
      "X.shape torch.Size([2, 256])\n",
      "Base weight torch.float32\n",
      "X.size 256\n",
      "256\n",
      "X.shape torch.Size([2, 256])\n",
      "Base weight torch.float32\n",
      "X.size 256\n",
      "256\n",
      "X.shape torch.Size([2, 256])\n",
      "Base weight torch.float32\n",
      "X.size 256\n",
      "256\n",
      "X.shape torch.Size([2, 256])\n",
      "Base weight torch.float32\n",
      "X.size 256\n",
      "256\n",
      "X.shape torch.Size([2, 256])\n",
      "Base weight torch.float32\n",
      "X.size 256\n",
      "256\n",
      "X.shape torch.Size([2, 256])\n",
      "Base weight torch.float32\n",
      "X.size 256\n",
      "256\n",
      "X.shape torch.Size([2, 256])\n",
      "Base weight torch.float32\n",
      "X.size 256\n",
      "256\n",
      "X.shape torch.Size([2, 256])\n",
      "Base weight torch.float32\n",
      "----------------------------------------------------------------\n",
      "        Layer (type)               Output Shape         Param #\n",
      "================================================================\n",
      "              SiLU-1                   [-1, 31]               0\n",
      "         KANLinear-2            [-1, 4096, 256]               0\n",
      "              SiLU-3                    [-1, 3]               0\n",
      "         KANLinear-4            [-1, 4096, 256]               0\n",
      "              SiLU-5                  [-1, 512]               0\n",
      "         KANLinear-6            [-1, 4096, 256]               0\n",
      "            Fusion-7          [-1, 256, 64, 64]               0\n",
      "              SiLU-8                  [-1, 256]               0\n",
      "         KANLinear-9                  [-1, 256]               0\n",
      "             SiLU-10                  [-1, 256]               0\n",
      "        KANLinear-11                  [-1, 256]               0\n",
      "         KANBlock-12          [-1, 256, 64, 64]               0\n",
      "             SiLU-13                  [-1, 256]               0\n",
      "        KANLinear-14                  [-1, 256]               0\n",
      "             SiLU-15                  [-1, 256]               0\n",
      "        KANLinear-16                  [-1, 256]               0\n",
      "         KANBlock-17          [-1, 256, 64, 64]               0\n",
      "             SiLU-18                  [-1, 256]               0\n",
      "        KANLinear-19                  [-1, 256]               0\n",
      "             SiLU-20                  [-1, 256]               0\n",
      "        KANLinear-21                  [-1, 256]               0\n",
      "         KANBlock-22          [-1, 256, 64, 64]               0\n",
      "             SiLU-23                  [-1, 256]               0\n",
      "        KANLinear-24                  [-1, 256]               0\n",
      "             SiLU-25                  [-1, 256]               0\n",
      "        KANLinear-26                  [-1, 256]               0\n",
      "         KANBlock-27          [-1, 256, 64, 64]               0\n",
      "           Conv2d-28          [-1, 256, 64, 64]         590,080\n",
      "             ReLU-29          [-1, 256, 64, 64]               0\n",
      "           Conv2d-30           [-1, 31, 64, 64]          71,455\n",
      "================================================================\n",
      "Total params: 661,535\n",
      "Trainable params: 661,535\n",
      "Non-trainable params: 0\n",
      "----------------------------------------------------------------\n",
      "Input size (MB): 372.00\n",
      "Forward/backward pass size (MB): 81.00\n",
      "Params size (MB): 2.52\n",
      "Estimated Total Size (MB): 455.53\n",
      "----------------------------------------------------------------\n"
     ]
    }
   ],
   "source": [
    "#from torchinfo import summary\n",
    "from torchsummary import summary\n",
    "summary(myKAN,input_size=[(31,16,16),(3,64,64)])"
   ]
  },
  {
   "cell_type": "code",
   "execution_count": null,
   "metadata": {},
   "outputs": [],
   "source": [
    "model = KANFormer(scale=4,depth=4)\n",
    "model = model.to(device)\n",
    "checkpoint = torch.load(model_dir)\n",
    "model.load_state_dict(checkpoint['net'],strict=False)\n"
   ]
  },
  {
   "cell_type": "code",
   "execution_count": null,
   "metadata": {},
   "outputs": [],
   "source": [
    "print(model['net']['fusion.hsi_kan.spline_weight'].shape)\n",
    "print(model['net']['fusion.hsi_kan.base_weight'].shape)\n",
    "print(model['net']['layers.0.kan_layer_01.spline_weight'].shape)"
   ]
  },
  {
   "cell_type": "code",
   "execution_count": null,
   "metadata": {},
   "outputs": [],
   "source": [
    "summary(model, input_size=[(31,16,16),(3,64,64)])"
   ]
  },
  {
   "cell_type": "markdown",
   "metadata": {},
   "source": [
    "# Fuse mock data\n"
   ]
  },
  {
   "cell_type": "code",
   "execution_count": 4,
   "metadata": {},
   "outputs": [
    {
     "data": {
      "text/plain": [
       "<matplotlib.image.AxesImage at 0x7f17c77d4c20>"
      ]
     },
     "execution_count": 4,
     "metadata": {},
     "output_type": "execute_result"
    },
    {
     "data": {
      "image/png": "[encoded data removed]",
      "text/plain": [
       "<Figure size 480x480 with 1 Axes>"
      ]
     },
     "metadata": {},
     "output_type": "display_data"
    }
   ],
   "source": [
    "gt = np.random.binomial(100,0.7,size=((64,64,31)))\n",
    "plt.matshow(gt[:,:,0])"
   ]
  },
  {
   "cell_type": "code",
   "execution_count": 5,
   "metadata": {},
   "outputs": [
    {
     "data": {
      "text/plain": [
       "dtype('float64')"
      ]
     },
     "execution_count": 5,
     "metadata": {},
     "output_type": "execute_result"
    },
    {
     "data": {
      "image/png": "[encoded data removed]",
      "text/plain": [
       "<Figure size 480x480 with 1 Axes>"
      ]
     },
     "metadata": {},
     "output_type": "display_data"
    }
   ],
   "source": [
    "from skimage.transform import resize\n",
    "from skimage.measure import block_reduce\n",
    "\n",
    "lr_hs = resize(gt, (16, 16, 31), anti_aliasing=True)\n",
    "plt.matshow(lr_hs[:,:,0])\n",
    "lr_hs = lr_hs.reshape(1,31,16,16)\n",
    "lr_hs.dtype\n"
   ]
  },
  {
   "cell_type": "code",
   "execution_count": 6,
   "metadata": {},
   "outputs": [
    {
     "data": {
      "text/plain": [
       "(1, 3, 64, 64)"
      ]
     },
     "execution_count": 6,
     "metadata": {},
     "output_type": "execute_result"
    }
   ],
   "source": [
    "hr_ms = gt.reshape((1,31,64,64))[:,:3,:,:].astype(np.float64)\n",
    "hr_ms.shape"
   ]
  },
  {
   "cell_type": "code",
   "execution_count": 7,
   "metadata": {},
   "outputs": [
    {
     "name": "stdout",
     "output_type": "stream",
     "text": [
      "float64\n",
      "float64\n"
     ]
    }
   ],
   "source": [
    "print(hr_ms.dtype)\n",
    "print(lr_hs.dtype)"
   ]
  },
  {
   "cell_type": "code",
   "execution_count": 10,
   "metadata": {},
   "outputs": [
    {
     "name": "stdout",
     "output_type": "stream",
     "text": [
      "(1, 31, 16, 16) (1, 3, 64, 64)\n",
      "torch.Size([1, 31, 16, 16])\n",
      "torch.float32\n",
      "torch.float32\n"
     ]
    }
   ],
   "source": [
    "print(lr_hs.shape,hr_ms.shape)\n",
    "print(torch.tensor(lr_hs).shape)\n",
    "lr_hs_torch = torch.tensor(lr_hs, dtype=torch.float32).to(device)\n",
    "hr_ms_torch = torch.tensor(hr_ms, dtype=torch.float32).to(device)\n",
    "print(hr_ms_torch.dtype)\n",
    "print(lr_hs_torch.dtype)"
   ]
  },
  {
   "cell_type": "code",
   "execution_count": 15,
   "metadata": {},
   "outputs": [
    {
     "name": "stdout",
     "output_type": "stream",
     "text": [
      "torch.Size([1, 31, 16, 16])\n",
      "torch.Size([1, 31, 64, 64])\n",
      "torch.Size([1, 4096, 31]) torch.Size([1, 4096, 3])\n",
      "lrhsi to first KAN\n",
      "X.size 31\n",
      "31\n",
      "X.shape torch.Size([4096, 31])\n",
      "Base weight torch.float32\n",
      "hrmsi to second KAN\n",
      "X.size 3\n",
      "3\n",
      "X.shape torch.Size([4096, 3])\n",
      "Base weight torch.float32\n",
      "torch.Size([1, 4096, 256]) torch.Size([1, 4096, 256])\n",
      "concatenated LR/HR to 3rd KAN\n",
      "X.size 512\n",
      "512\n",
      "X.shape torch.Size([4096, 512])\n",
      "Base weight torch.float32\n",
      "X.size 256\n",
      "256\n",
      "X.shape torch.Size([1, 256])\n",
      "Base weight torch.float32\n",
      "X.size 256\n",
      "256\n",
      "X.shape torch.Size([1, 256])\n",
      "Base weight torch.float32\n",
      "X.size 256\n",
      "256\n",
      "X.shape torch.Size([1, 256])\n",
      "Base weight torch.float32\n",
      "X.size 256\n",
      "256\n",
      "X.shape torch.Size([1, 256])\n",
      "Base weight torch.float32\n",
      "X.size 256\n",
      "256\n",
      "X.shape torch.Size([1, 256])\n",
      "Base weight torch.float32\n",
      "X.size 256\n",
      "256\n",
      "X.shape torch.Size([1, 256])\n",
      "Base weight torch.float32\n",
      "X.size 256\n",
      "256\n",
      "X.shape torch.Size([1, 256])\n",
      "Base weight torch.float32\n",
      "X.size 256\n",
      "256\n",
      "X.shape torch.Size([1, 256])\n",
      "Base weight torch.float32\n"
     ]
    }
   ],
   "source": [
    "fused = myKAN.forward(lr_hs_torch,hr_ms_torch)"
   ]
  },
  {
   "cell_type": "code",
   "execution_count": 21,
   "metadata": {},
   "outputs": [
    {
     "name": "stdout",
     "output_type": "stream",
     "text": [
      "(1, 31, 64, 64)\n",
      "<class 'numpy.ndarray'>\n"
     ]
    }
   ],
   "source": [
    "fused_image = fused.cpu().detach().numpy()\n",
    "print(fused_image.shape)\n",
    "print(type(fused_image))\n"
   ]
  },
  {
   "cell_type": "code",
   "execution_count": 26,
   "metadata": {},
   "outputs": [
    {
     "name": "stdout",
     "output_type": "stream",
     "text": [
      "(64, 64, 31, 1)\n"
     ]
    },
    {
     "data": {
      "text/plain": [
       "<matplotlib.image.AxesImage at 0x7f17a5bb5400>"
      ]
     },
     "execution_count": 26,
     "metadata": {},
     "output_type": "execute_result"
    },
    {
     "data": {
      "image/png": "[encoded data removed]",
      "text/plain": [
       "<Figure size 480x480 with 1 Axes>"
      ]
     },
     "metadata": {},
     "output_type": "display_data"
    }
   ],
   "source": [
    "from einops import rearrange\n",
    "fused_image = rearrange(fused_image,'b c h w -> h w c b')\n",
    "print(fused_image.shape)\n",
    "plt.matshow(fused_image[:,:,0,0])"
   ]
  },
  {
   "cell_type": "code",
   "execution_count": 28,
   "metadata": {},
   "outputs": [
    {
     "ename": "AttributeError",
     "evalue": "'numpy.ndarray' object has no attribute 'detach'",
     "output_type": "error",
     "traceback": [
      "\u001b[0;31m---------------------------------------------------------------------------\u001b[0m",
      "\u001b[0;31mAttributeError\u001b[0m                            Traceback (most recent call last)",
      "Cell \u001b[0;32mIn[28], line 2\u001b[0m\n\u001b[1;32m      1\u001b[0m \u001b[38;5;28;01mfrom\u001b[39;00m\u001b[38;5;250m \u001b[39m\u001b[38;5;21;01mutils\u001b[39;00m\u001b[38;5;250m \u001b[39m\u001b[38;5;28;01mimport\u001b[39;00m Metric\n\u001b[0;32m----> 2\u001b[0m metric \u001b[38;5;241m=\u001b[39m \u001b[43mMetric\u001b[49m\u001b[43m(\u001b[49m\u001b[43mgt\u001b[49m\u001b[43m,\u001b[49m\u001b[43mfused_image\u001b[49m\u001b[38;5;241;43m.\u001b[39;49m\u001b[43msqueeze\u001b[49m\u001b[43m(\u001b[49m\u001b[38;5;241;43m-\u001b[39;49m\u001b[38;5;241;43m1\u001b[39;49m\u001b[43m)\u001b[49m\u001b[43m)\u001b[49m\n\u001b[1;32m      4\u001b[0m metric\u001b[38;5;241m.\u001b[39mcalc_rmse()\n",
      "File \u001b[0;32m~/dev/fuse/HSR-KAN/utils.py:26\u001b[0m, in \u001b[0;36mMetric.__init__\u001b[0;34m(self, GT, preHSI)\u001b[0m\n\u001b[1;32m     24\u001b[0m \u001b[38;5;28mself\u001b[39m\u001b[38;5;241m.\u001b[39meps \u001b[38;5;241m=\u001b[39m \u001b[38;5;241m2.2204e-16\u001b[39m\n\u001b[1;32m     25\u001b[0m \u001b[38;5;28;01massert\u001b[39;00m GT\u001b[38;5;241m.\u001b[39mshape \u001b[38;5;241m==\u001b[39m preHSI\u001b[38;5;241m.\u001b[39mshape\n\u001b[0;32m---> 26\u001b[0m \u001b[38;5;28mself\u001b[39m\u001b[38;5;241m.\u001b[39mGT \u001b[38;5;241m=\u001b[39m \u001b[43mGT\u001b[49m\u001b[38;5;241;43m.\u001b[39;49m\u001b[43mdetach\u001b[49m()\u001b[38;5;241m.\u001b[39mcpu()\u001b[38;5;241m.\u001b[39mnumpy()\n\u001b[1;32m     27\u001b[0m \u001b[38;5;28mself\u001b[39m\u001b[38;5;241m.\u001b[39mpreHSI \u001b[38;5;241m=\u001b[39m preHSI\u001b[38;5;241m.\u001b[39mdetach()\u001b[38;5;241m.\u001b[39mcpu()\u001b[38;5;241m.\u001b[39mnumpy()\n\u001b[1;32m     28\u001b[0m \u001b[38;5;28mself\u001b[39m\u001b[38;5;241m.\u001b[39mPSNR,\u001b[38;5;28mself\u001b[39m\u001b[38;5;241m.\u001b[39mRMSE,\u001b[38;5;28mself\u001b[39m\u001b[38;5;241m.\u001b[39mSAM,\u001b[38;5;28mself\u001b[39m\u001b[38;5;241m.\u001b[39mERGAS,\u001b[38;5;28mself\u001b[39m\u001b[38;5;241m.\u001b[39mSSIM \u001b[38;5;241m=\u001b[39m [],[],[],[],[]\n",
      "\u001b[0;31mAttributeError\u001b[0m: 'numpy.ndarray' object has no attribute 'detach'"
     ]
    }
   ],
   "source": [
    "from utils import Metric\n",
    "metric = Metric(gt,fused_image.squeeze(-1))\n",
    "\n",
    "metric.calc_rmse()"
   ]
  },
  {
   "cell_type": "markdown",
   "metadata": {},
   "source": [
    "## Format CAVE data"
   ]
  },
  {
   "cell_type": "code",
   "execution_count": null,
   "metadata": {},
   "outputs": [],
   "source": []
  },
  {
   "cell_type": "code",
   "execution_count": null,
   "metadata": {},
   "outputs": [],
   "source": []
  }
 ],
 "metadata": {
  "kernelspec": {
   "display_name": "venv",
   "language": "python",
   "name": "python3"
  },
  "language_info": {
   "codemirror_mode": {
    "name": "ipython",
    "version": 3
   },
   "file_extension": ".py",
   "mimetype": "text/x-python",
   "name": "python",
   "nbconvert_exporter": "python",
   "pygments_lexer": "ipython3",
   "version": "3.12.3"
  }
 },
 "nbformat": 4,
 "nbformat_minor": 2
}
